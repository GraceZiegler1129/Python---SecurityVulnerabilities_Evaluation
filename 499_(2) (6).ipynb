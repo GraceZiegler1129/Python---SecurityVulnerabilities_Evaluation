{
  "cells": [
    {
      "cell_type": "code",
      "execution_count": null,
      "metadata": {
        "id": "794zUr8XrckV"
      },
      "outputs": [],
      "source": [
        "import h5py\n",
        "import pandas as pd\n",
        "import numpy as np\n",
        "import tensorflow as tf\n",
        "tf.compat.v1.disable_eager_execution()\n",
        "\n",
        "import tensorflow \n",
        "from tensorflow import keras\n",
        "from keras import layers\n",
        "from keras.models import Sequential\n",
        "from keras.layers import Dense\n",
        "from keras.layers import LSTM\n",
        "from keras.layers import Dropout\n",
        "from keras.layers import Flatten"
      ]
    },
    {
      "cell_type": "code",
      "execution_count": null,
      "metadata": {
        "colab": {
          "base_uri": "https://localhost:8080/"
        },
        "id": "ZQMJYMtHYt_m",
        "outputId": "6c299d80-5fff-4f02-b627-e4d34bd709e5"
      },
      "outputs": [
        {
          "name": "stdout",
          "output_type": "stream",
          "text": [
            "Mounted at /content/drive\n"
          ]
        }
      ],
      "source": [
        "from google.colab import drive\n",
        "drive.mount('/content/drive')"
      ]
    },
    {
      "cell_type": "code",
      "execution_count": null,
      "metadata": {
        "id": "jk2PVWNjOwbh"
      },
      "outputs": [],
      "source": [
        "#load in hdf5 files\n",
        "test = h5py.File(\"/content/drive/MyDrive/VDISC_test.hdf5\",'r')\n",
        "train = h5py.File(\"/content/drive/MyDrive/VDISC_train.hdf5\",'r')\n",
        "validate = h5py.File(\"/content/drive/MyDrive/VDISC_validate.hdf5\",'r')"
      ]
    },
    {
      "cell_type": "code",
      "execution_count": null,
      "metadata": {
        "colab": {
          "base_uri": "https://localhost:8080/"
        },
        "id": "tEhr0eZ5O6d2",
        "outputId": "618fbe20-337f-4a81-dc3d-dd456a7161d7"
      },
      "outputs": [
        {
          "name": "stdout",
          "output_type": "stream",
          "text": [
            "CWE-119\n",
            "CWE-120\n",
            "CWE-469\n",
            "CWE-476\n",
            "CWE-other\n",
            "functionSource\n"
          ]
        }
      ],
      "source": [
        "test.visit(print)\n",
        "mydf = pd.DataFrame(list(test['functionSource']))\n",
        "mydf['CWE-119']=list(test['CWE-119']); mydf['CWE-120']=list(test['CWE-120']); mydf['CWE-469']=list(test['CWE-469']); mydf['CWE-476']=list(test['CWE-476']); mydf['CWE-other']=list(test['CWE-other']) \n",
        "mydf.rename(columns={0:'functionSource'},inplace=True)\n",
        "mydf.iloc[0:5,0:]\n",
        "mydf.to_pickle(\"VDISC_test.pickle\")"
      ]
    },
    {
      "cell_type": "code",
      "execution_count": null,
      "metadata": {
        "colab": {
          "base_uri": "https://localhost:8080/"
        },
        "id": "EzkH3EzsUC2Y",
        "outputId": "d860ba79-5b08-458b-80ae-214a81a31167"
      },
      "outputs": [
        {
          "name": "stdout",
          "output_type": "stream",
          "text": [
            "CWE-119\n",
            "CWE-120\n",
            "CWE-469\n",
            "CWE-476\n",
            "CWE-other\n",
            "functionSource\n"
          ]
        }
      ],
      "source": [
        "train.visit(print)\n",
        "mydf = pd.DataFrame(list(train['functionSource']))\n",
        "mydf['CWE-119']=list(train['CWE-119']); mydf['CWE-120']=list(train['CWE-120']); mydf['CWE-469']=list(train['CWE-469']); mydf['CWE-476']=list(train['CWE-476']); mydf['CWE-other']=list(train['CWE-other']) \n",
        "mydf.rename(columns={0:'functionSource'},inplace=True)\n",
        "mydf.iloc[0:5,0:]\n",
        "mydf.to_pickle(\"VDISC_train.pickle\")"
      ]
    },
    {
      "cell_type": "code",
      "execution_count": null,
      "metadata": {
        "colab": {
          "base_uri": "https://localhost:8080/"
        },
        "id": "1s2SwN5wgs80",
        "outputId": "b19f9c71-2f4c-4463-ed2e-e0792a331f27"
      },
      "outputs": [
        {
          "name": "stdout",
          "output_type": "stream",
          "text": [
            "CWE-119\n",
            "CWE-120\n",
            "CWE-469\n",
            "CWE-476\n",
            "CWE-other\n",
            "functionSource\n"
          ]
        }
      ],
      "source": [
        "validate.visit(print)\n",
        "mydf = pd.DataFrame(list(validate['functionSource']))\n",
        "mydf['CWE-119']=list(validate['CWE-119']); mydf['CWE-120']=list(validate['CWE-120']); mydf['CWE-469']=list(validate['CWE-469']); mydf['CWE-476']=list(validate['CWE-476']); mydf['CWE-other']=list(validate['CWE-other']) \n",
        "mydf.rename(columns={0:'functionSource'},inplace=True)\n",
        "mydf.iloc[0:5,0:]\n",
        "mydf.to_pickle(\"VDISC_validate.pickle\")"
      ]
    },
    {
      "cell_type": "code",
      "execution_count": null,
      "metadata": {
        "id": "laAQY9AbguP8"
      },
      "outputs": [],
      "source": [
        "# Set the global value\n",
        "WORDS_SIZE=10000\n",
        "INPUT_SIZE=500\n",
        "NUM_CLASSES=2\n",
        "MODEL_NUM=0\n",
        "EPOCHS=10\n",
        "BATCH_SIZE=128"
      ]
    },
    {
      "cell_type": "code",
      "execution_count": null,
      "metadata": {
        "id": "yYvNJr9wg8T8"
      },
      "outputs": [],
      "source": [
        "test = pd.read_pickle(\"/content/drive/MyDrive/VDISC_test.pickle\")\n",
        "train = pd.read_pickle(\"/content/drive/MyDrive/VDISC_train.pickle\")\n",
        "validate = pd.read_pickle(\"/content/drive/MyDrive/VDISC_validate.pickle\")"
      ]
    },
    {
      "cell_type": "code",
      "execution_count": null,
      "metadata": {
        "id": "nxjNDIIXwf9A"
      },
      "outputs": [],
      "source": [
        "# Overview of the datasets\n",
        "#pd.value_counts(train.iloc[:,1])"
      ]
    },
    {
      "cell_type": "code",
      "execution_count": null,
      "metadata": {
        "id": "RCm3uJnZwiAb"
      },
      "outputs": [],
      "source": [
        "one = train[train.iloc[:,1]==1].index.values.astype(int)\n",
        "zero = train[train.iloc[:,1]==0].index.values.astype(int)"
      ]
    },
    {
      "cell_type": "code",
      "execution_count": null,
      "metadata": {
        "colab": {
          "base_uri": "https://localhost:8080/"
        },
        "id": "7STq0JYqg9Al",
        "outputId": "63d6f8f0-9917-4789-e095-53a9c478c131"
      },
      "outputs": [
        {
          "name": "stdout",
          "output_type": "stream",
          "text": [
            "[b'clear_area(int startx, int starty, int xsize, int ysize)\\n{\\n  int x;\\n\\n  TRACE_LOG(\"Clearing area %d,%d / %d,%d\\\\n\", startx, starty, xsize, ysize);\\n\\n  while (ysize > 0)\\n  {\\n    x = xsize;\\n    while (x > 0)\\n    {\\n      mvaddch(starty + ysize - 2, startx + x - 2, \\' \\');\\n      x--;\\n    }\\n    ysize--;\\n  }\\n}'\n",
            " b'ReconstructDuList(Statement* head)\\n{\\n    Statement* spt;\\n\\n    for (spt = head; spt != NULL; spt = spt->next) {\\n\\tdelete_def_use_list(spt->use_var_list);\\n\\tdelete_def_use_list(spt->def_var_list);\\n\\tdelete_def_use_list(spt->use_array_list);\\n\\tdelete_def_use_list(spt->def_array_list);\\n\\tspt->def_var_list = NULL;\\n\\tspt->use_var_list = NULL;\\n\\tspt->def_array_list = NULL;\\n\\tspt->use_array_list = NULL;\\n    }\\n    def_use_statement(head);\\n}'\n",
            " b'free_speaker(void)\\n{\\n   if(Lengths)\\n       free(Lengths);\\n\\n   if(!audio2fast && commento)\\n       fclose(commento);\\n\\n\\n   frase = NON_DECISA;\\n   game_status = S_NON_INIZIATO;\\n\\n   fondolen = sound[FONDO]->Length;\\n   fondobase = sound[FONDO]->SoundData;\\n\\n   if (audio2fast && comment_file) \\n       free(comment_file);\\n   \\n   Lengths = NULL;\\n   commento = NULL;\\n   comment_file = NULL;\\n}'\n",
            " ...\n",
            " b'addrconf6_start (NMDevice *self)\\n{\\n\\tNMDevicePrivate *priv = NM_DEVICE_GET_PRIVATE (self);\\n\\tNMConnection *connection;\\n\\tgboolean success;\\n\\tconst guint8 *hwaddr;\\n\\tguint hwaddr_len = 0;\\n\\n\\tconnection = nm_device_get_connection (self);\\n\\tg_assert (connection);\\n\\n\\tg_warn_if_fail (priv->ac_ip6_config == NULL);\\n\\tif (priv->ac_ip6_config) {\\n\\t\\tg_object_unref (priv->ac_ip6_config);\\n\\t\\tpriv->ac_ip6_config = NULL;\\n\\t}\\n\\n\\tif (!priv->ip6_manager) {\\n\\t\\tpriv->ip6_manager = nm_ip6_manager_get ();\\n\\t\\tpriv->ip6_addrconf_sigid = g_signal_connect (priv->ip6_manager,\\n\\t\\t                                             \"addrconf-complete\",\\n\\t\\t                                             G_CALLBACK (ip6_addrconf_complete),\\n\\t\\t                                             self);\\n\\t\\tpriv->ip6_config_changed_sigid = g_signal_connect (priv->ip6_manager,\\n\\t\\t                                                   \"config-changed\",\\n\\t\\t                                                   G_CALLBACK (ip6_config_changed),\\n\\t\\t                                                   self);\\n\\t}\\n\\n\\thwaddr = nm_device_get_hw_address (self, &hwaddr_len);\\n\\tg_warn_if_fail (hwaddr != NULL);\\n\\tsuccess = nm_ip6_manager_prepare_interface (priv->ip6_manager,\\n\\t                                            nm_device_get_ip_ifindex (self),\\n\\t                                            hwaddr,\\n\\t                                            hwaddr_len,\\n\\t                                            nm_connection_get_setting_ip6_config (connection),\\n\\t                                            priv->ip6_accept_ra_path);\\n\\tif (success) {\\n\\t\\tpriv->ip6_waiting_for_config = TRUE;\\n\\t\\tnm_ip6_manager_begin_addrconf (priv->ip6_manager, nm_device_get_ip_ifindex (self));\\n\\t}\\n\\n\\treturn success;\\n}'\n",
            " b'Next(const SQObjectPtr &refpos, SQObjectPtr &outkey, SQObjectPtr &outval)\\n{\\n\\tSQObjectPtr oval;\\n\\tSQInteger idx = _members->Next(false,refpos,outkey,oval);\\n\\tif(idx != -1) {\\n\\t\\tif(_ismethod(oval)) {\\n\\t\\t\\toutval = _methods[_member_idx(oval)].val;\\n\\t\\t}\\n\\t\\telse {\\n\\t\\t\\tSQObjectPtr &o = _defaultvalues[_member_idx(oval)].val;\\n\\t\\t\\toutval = _realval(o);\\n\\t\\t}\\n\\t}\\n\\treturn idx;\\n}'\n",
            " b'EffectHealMaxHealth(SpellEffectIndex /*eff_idx*/)\\n{\\n    if (!unitTarget)\\n        { return; }\\n    if (!unitTarget->IsAlive())\\n        { return; }\\n\\n    uint32 heal = m_caster->GetMaxHealth();\\n\\n    m_healing += heal;\\n}']\n"
          ]
        }
      ],
      "source": [
        "# map True and False values to 1 and 0\n",
        "for dataset in [train,validate,test]:\n",
        "    for col in range(1,6):\n",
        "        dataset.iloc[:,col] = dataset.iloc[:,col].map({False: 0, True: 1})\n",
        "\n",
        "# Create source code data for tokenization\n",
        "x_vals = train['functionSource'].values\n",
        "np.append(x_vals, validate['functionSource'].values)\n",
        "np.append(x_vals, test['functionSource'].values)\n",
        "print(x_vals)"
      ]
    },
    {
      "cell_type": "code",
      "execution_count": null,
      "metadata": {
        "colab": {
          "base_uri": "https://localhost:8080/",
          "height": 206
        },
        "id": "9enekw6fg_qH",
        "outputId": "af7dddfc-8a7c-48b7-88b7-a6f0b2d5af15"
      },
      "outputs": [
        {
          "data": {
            "text/html": [
              "\n",
              "  <div id=\"df-410bd9c7-2d46-4b46-a514-d2275b9108b2\">\n",
              "    <div class=\"colab-df-container\">\n",
              "      <div>\n",
              "<style scoped>\n",
              "    .dataframe tbody tr th:only-of-type {\n",
              "        vertical-align: middle;\n",
              "    }\n",
              "\n",
              "    .dataframe tbody tr th {\n",
              "        vertical-align: top;\n",
              "    }\n",
              "\n",
              "    .dataframe thead th {\n",
              "        text-align: right;\n",
              "    }\n",
              "</style>\n",
              "<table border=\"1\" class=\"dataframe\">\n",
              "  <thead>\n",
              "    <tr style=\"text-align: right;\">\n",
              "      <th></th>\n",
              "      <th>functionSource</th>\n",
              "      <th>CWE-119</th>\n",
              "      <th>CWE-120</th>\n",
              "      <th>CWE-469</th>\n",
              "      <th>CWE-476</th>\n",
              "      <th>CWE-other</th>\n",
              "    </tr>\n",
              "  </thead>\n",
              "  <tbody>\n",
              "    <tr>\n",
              "      <th>0</th>\n",
              "      <td>b'clear_area(int startx, int starty, int xsize...</td>\n",
              "      <td>0</td>\n",
              "      <td>0</td>\n",
              "      <td>0</td>\n",
              "      <td>0</td>\n",
              "      <td>0</td>\n",
              "    </tr>\n",
              "    <tr>\n",
              "      <th>1</th>\n",
              "      <td>b'ReconstructDuList(Statement* head)\\n{\\n    S...</td>\n",
              "      <td>0</td>\n",
              "      <td>0</td>\n",
              "      <td>0</td>\n",
              "      <td>0</td>\n",
              "      <td>0</td>\n",
              "    </tr>\n",
              "    <tr>\n",
              "      <th>2</th>\n",
              "      <td>b'free_speaker(void)\\n{\\n   if(Lengths)\\n     ...</td>\n",
              "      <td>0</td>\n",
              "      <td>0</td>\n",
              "      <td>0</td>\n",
              "      <td>0</td>\n",
              "      <td>0</td>\n",
              "    </tr>\n",
              "    <tr>\n",
              "      <th>3</th>\n",
              "      <td>b'mlx4_register_device(struct mlx4_dev *dev)\\n...</td>\n",
              "      <td>0</td>\n",
              "      <td>0</td>\n",
              "      <td>0</td>\n",
              "      <td>0</td>\n",
              "      <td>0</td>\n",
              "    </tr>\n",
              "    <tr>\n",
              "      <th>4</th>\n",
              "      <td>b'Parse_Env_Var(void)\\n{\\n  char *p = getenv(\"...</td>\n",
              "      <td>1</td>\n",
              "      <td>1</td>\n",
              "      <td>0</td>\n",
              "      <td>0</td>\n",
              "      <td>1</td>\n",
              "    </tr>\n",
              "  </tbody>\n",
              "</table>\n",
              "</div>\n",
              "      <button class=\"colab-df-convert\" onclick=\"convertToInteractive('df-410bd9c7-2d46-4b46-a514-d2275b9108b2')\"\n",
              "              title=\"Convert this dataframe to an interactive table.\"\n",
              "              style=\"display:none;\">\n",
              "        \n",
              "  <svg xmlns=\"http://www.w3.org/2000/svg\" height=\"24px\"viewBox=\"0 0 24 24\"\n",
              "       width=\"24px\">\n",
              "    <path d=\"M0 0h24v24H0V0z\" fill=\"none\"/>\n",
              "    <path d=\"M18.56 5.44l.94 2.06.94-2.06 2.06-.94-2.06-.94-.94-2.06-.94 2.06-2.06.94zm-11 1L8.5 8.5l.94-2.06 2.06-.94-2.06-.94L8.5 2.5l-.94 2.06-2.06.94zm10 10l.94 2.06.94-2.06 2.06-.94-2.06-.94-.94-2.06-.94 2.06-2.06.94z\"/><path d=\"M17.41 7.96l-1.37-1.37c-.4-.4-.92-.59-1.43-.59-.52 0-1.04.2-1.43.59L10.3 9.45l-7.72 7.72c-.78.78-.78 2.05 0 2.83L4 21.41c.39.39.9.59 1.41.59.51 0 1.02-.2 1.41-.59l7.78-7.78 2.81-2.81c.8-.78.8-2.07 0-2.86zM5.41 20L4 18.59l7.72-7.72 1.47 1.35L5.41 20z\"/>\n",
              "  </svg>\n",
              "      </button>\n",
              "      \n",
              "  <style>\n",
              "    .colab-df-container {\n",
              "      display:flex;\n",
              "      flex-wrap:wrap;\n",
              "      gap: 12px;\n",
              "    }\n",
              "\n",
              "    .colab-df-convert {\n",
              "      background-color: #E8F0FE;\n",
              "      border: none;\n",
              "      border-radius: 50%;\n",
              "      cursor: pointer;\n",
              "      display: none;\n",
              "      fill: #1967D2;\n",
              "      height: 32px;\n",
              "      padding: 0 0 0 0;\n",
              "      width: 32px;\n",
              "    }\n",
              "\n",
              "    .colab-df-convert:hover {\n",
              "      background-color: #E2EBFA;\n",
              "      box-shadow: 0px 1px 2px rgba(60, 64, 67, 0.3), 0px 1px 3px 1px rgba(60, 64, 67, 0.15);\n",
              "      fill: #174EA6;\n",
              "    }\n",
              "\n",
              "    [theme=dark] .colab-df-convert {\n",
              "      background-color: #3B4455;\n",
              "      fill: #D2E3FC;\n",
              "    }\n",
              "\n",
              "    [theme=dark] .colab-df-convert:hover {\n",
              "      background-color: #434B5C;\n",
              "      box-shadow: 0px 1px 3px 1px rgba(0, 0, 0, 0.15);\n",
              "      filter: drop-shadow(0px 1px 2px rgba(0, 0, 0, 0.3));\n",
              "      fill: #FFFFFF;\n",
              "    }\n",
              "  </style>\n",
              "\n",
              "      <script>\n",
              "        const buttonEl =\n",
              "          document.querySelector('#df-410bd9c7-2d46-4b46-a514-d2275b9108b2 button.colab-df-convert');\n",
              "        buttonEl.style.display =\n",
              "          google.colab.kernel.accessAllowed ? 'block' : 'none';\n",
              "\n",
              "        async function convertToInteractive(key) {\n",
              "          const element = document.querySelector('#df-410bd9c7-2d46-4b46-a514-d2275b9108b2');\n",
              "          const dataTable =\n",
              "            await google.colab.kernel.invokeFunction('convertToInteractive',\n",
              "                                                     [key], {});\n",
              "          if (!dataTable) return;\n",
              "\n",
              "          const docLinkHtml = 'Like what you see? Visit the ' +\n",
              "            '<a target=\"_blank\" href=https://colab.research.google.com/notebooks/data_table.ipynb>data table notebook</a>'\n",
              "            + ' to learn more about interactive tables.';\n",
              "          element.innerHTML = '';\n",
              "          dataTable['output_type'] = 'display_data';\n",
              "          await google.colab.output.renderOutput(dataTable, element);\n",
              "          const docLink = document.createElement('div');\n",
              "          docLink.innerHTML = docLinkHtml;\n",
              "          element.appendChild(docLink);\n",
              "        }\n",
              "      </script>\n",
              "    </div>\n",
              "  </div>\n",
              "  "
            ],
            "text/plain": [
              "                                      functionSource  CWE-119  CWE-120  \\\n",
              "0  b'clear_area(int startx, int starty, int xsize...        0        0   \n",
              "1  b'ReconstructDuList(Statement* head)\\n{\\n    S...        0        0   \n",
              "2  b'free_speaker(void)\\n{\\n   if(Lengths)\\n     ...        0        0   \n",
              "3  b'mlx4_register_device(struct mlx4_dev *dev)\\n...        0        0   \n",
              "4  b'Parse_Env_Var(void)\\n{\\n  char *p = getenv(\"...        1        1   \n",
              "\n",
              "   CWE-469  CWE-476  CWE-other  \n",
              "0        0        0          0  \n",
              "1        0        0          0  \n",
              "2        0        0          0  \n",
              "3        0        0          0  \n",
              "4        0        0          1  "
            ]
          },
          "execution_count": 12,
          "metadata": {},
          "output_type": "execute_result"
        }
      ],
      "source": [
        "train.head()"
      ]
    },
    {
      "cell_type": "code",
      "execution_count": null,
      "metadata": {
        "colab": {
          "base_uri": "https://localhost:8080/"
        },
        "id": "64pYfKYPhFKP",
        "outputId": "ed9e732e-f4c7-48d4-ece6-dd7c9d75cebf"
      },
      "outputs": [
        {
          "name": "stdout",
          "output_type": "stream",
          "text": [
            "[b'clear_area(int startx, int starty, int xsize, int ysize)\\n{\\n  int x;\\n\\n  TRACE_LOG(\"Clearing area %d,%d / %d,%d\\\\n\", startx, starty, xsize, ysize);\\n\\n  while (ysize > 0)\\n  {\\n    x = xsize;\\n    while (x > 0)\\n    {\\n      mvaddch(starty + ysize - 2, startx + x - 2, \\' \\');\\n      x--;\\n    }\\n    ysize--;\\n  }\\n}'\n",
            " b'ReconstructDuList(Statement* head)\\n{\\n    Statement* spt;\\n\\n    for (spt = head; spt != NULL; spt = spt->next) {\\n\\tdelete_def_use_list(spt->use_var_list);\\n\\tdelete_def_use_list(spt->def_var_list);\\n\\tdelete_def_use_list(spt->use_array_list);\\n\\tdelete_def_use_list(spt->def_array_list);\\n\\tspt->def_var_list = NULL;\\n\\tspt->use_var_list = NULL;\\n\\tspt->def_array_list = NULL;\\n\\tspt->use_array_list = NULL;\\n    }\\n    def_use_statement(head);\\n}'\n",
            " b'free_speaker(void)\\n{\\n   if(Lengths)\\n       free(Lengths);\\n\\n   if(!audio2fast && commento)\\n       fclose(commento);\\n\\n\\n   frase = NON_DECISA;\\n   game_status = S_NON_INIZIATO;\\n\\n   fondolen = sound[FONDO]->Length;\\n   fondobase = sound[FONDO]->SoundData;\\n\\n   if (audio2fast && comment_file) \\n       free(comment_file);\\n   \\n   Lengths = NULL;\\n   commento = NULL;\\n   comment_file = NULL;\\n}'\n",
            " ...\n",
            " b'addrconf6_start (NMDevice *self)\\n{\\n\\tNMDevicePrivate *priv = NM_DEVICE_GET_PRIVATE (self);\\n\\tNMConnection *connection;\\n\\tgboolean success;\\n\\tconst guint8 *hwaddr;\\n\\tguint hwaddr_len = 0;\\n\\n\\tconnection = nm_device_get_connection (self);\\n\\tg_assert (connection);\\n\\n\\tg_warn_if_fail (priv->ac_ip6_config == NULL);\\n\\tif (priv->ac_ip6_config) {\\n\\t\\tg_object_unref (priv->ac_ip6_config);\\n\\t\\tpriv->ac_ip6_config = NULL;\\n\\t}\\n\\n\\tif (!priv->ip6_manager) {\\n\\t\\tpriv->ip6_manager = nm_ip6_manager_get ();\\n\\t\\tpriv->ip6_addrconf_sigid = g_signal_connect (priv->ip6_manager,\\n\\t\\t                                             \"addrconf-complete\",\\n\\t\\t                                             G_CALLBACK (ip6_addrconf_complete),\\n\\t\\t                                             self);\\n\\t\\tpriv->ip6_config_changed_sigid = g_signal_connect (priv->ip6_manager,\\n\\t\\t                                                   \"config-changed\",\\n\\t\\t                                                   G_CALLBACK (ip6_config_changed),\\n\\t\\t                                                   self);\\n\\t}\\n\\n\\thwaddr = nm_device_get_hw_address (self, &hwaddr_len);\\n\\tg_warn_if_fail (hwaddr != NULL);\\n\\tsuccess = nm_ip6_manager_prepare_interface (priv->ip6_manager,\\n\\t                                            nm_device_get_ip_ifindex (self),\\n\\t                                            hwaddr,\\n\\t                                            hwaddr_len,\\n\\t                                            nm_connection_get_setting_ip6_config (connection),\\n\\t                                            priv->ip6_accept_ra_path);\\n\\tif (success) {\\n\\t\\tpriv->ip6_waiting_for_config = TRUE;\\n\\t\\tnm_ip6_manager_begin_addrconf (priv->ip6_manager, nm_device_get_ip_ifindex (self));\\n\\t}\\n\\n\\treturn success;\\n}'\n",
            " b'Next(const SQObjectPtr &refpos, SQObjectPtr &outkey, SQObjectPtr &outval)\\n{\\n\\tSQObjectPtr oval;\\n\\tSQInteger idx = _members->Next(false,refpos,outkey,oval);\\n\\tif(idx != -1) {\\n\\t\\tif(_ismethod(oval)) {\\n\\t\\t\\toutval = _methods[_member_idx(oval)].val;\\n\\t\\t}\\n\\t\\telse {\\n\\t\\t\\tSQObjectPtr &o = _defaultvalues[_member_idx(oval)].val;\\n\\t\\t\\toutval = _realval(o);\\n\\t\\t}\\n\\t}\\n\\treturn idx;\\n}'\n",
            " b'EffectHealMaxHealth(SpellEffectIndex /*eff_idx*/)\\n{\\n    if (!unitTarget)\\n        { return; }\\n    if (!unitTarget->IsAlive())\\n        { return; }\\n\\n    uint32 heal = m_caster->GetMaxHealth();\\n\\n    m_healing += heal;\\n}']\n",
            "Number of tokens:  66294\n"
          ]
        }
      ],
      "source": [
        "# Tokenizer with word-level\n",
        "tokenizer = tf.keras.preprocessing.text.Tokenizer(char_level=False)\n",
        "print(x_vals)\n",
        "tokenizer.fit_on_texts([str(i) for i in x_vals[:10000]])\n",
        "#del(x_vals)\n",
        "print('Number of tokens: ',len(tokenizer.word_counts))"
      ]
    },
    {
      "cell_type": "code",
      "execution_count": null,
      "metadata": {
        "colab": {
          "base_uri": "https://localhost:8080/"
        },
        "id": "UN-0GzN4hQb2",
        "outputId": "921428e4-50f7-414e-9115-827d2a556bb1"
      },
      "outputs": [
        {
          "data": {
            "text/plain": [
              "[('n', 288171),\n",
              " ('t', 129874),\n",
              " ('0', 21020),\n",
              " ('if', 18372),\n",
              " (\"'\", 14338),\n",
              " ('i', 13810),\n",
              " ('1', 11741),\n",
              " ('tif', 11714),\n",
              " ('return', 9614),\n",
              " ('null', 9241)]"
            ]
          },
          "execution_count": 14,
          "metadata": {},
          "output_type": "execute_result"
        }
      ],
      "source": [
        "# reduce words\n",
        "tokenizer.num_words = WORDS_SIZE\n",
        "\n",
        "# top 10 words in file\n",
        "sorted(tokenizer.word_counts.items(), key=lambda x:x[1], reverse=True)[0:10]"
      ]
    },
    {
      "cell_type": "code",
      "execution_count": null,
      "metadata": {
        "colab": {
          "base_uri": "https://localhost:8080/"
        },
        "id": "ip8TBbANSpsa",
        "outputId": "d03990cd-d15c-4a63-f0e7-0e8a4c957708"
      },
      "outputs": [
        {
          "name": "stdout",
          "output_type": "stream",
          "text": [
            "(1019471, 500)\n",
            "(127419, 500)\n",
            "(127476, 500)\n"
          ]
        }
      ],
      "source": [
        "## create matrix after tokenizing training data\n",
        "list_data= train['functionSource'].values\n",
        "tokenized_train = tokenizer.texts_to_sequences([str(i) for i in list_data])\n",
        "x_train = tf.keras.preprocessing.sequence.pad_sequences(tokenized_train, \n",
        "                                  maxlen=INPUT_SIZE,\n",
        "                                  padding='post')\n",
        "x_train = x_train.astype(np.int64)\n",
        "print(x_train.shape)\n",
        "\n",
        "## create matrix after tokenizing testing data\n",
        "list_data= test['functionSource'].values\n",
        "tokenized_test = tokenizer.texts_to_sequences([str(i) for i in list_data])\n",
        "x_test = tf.keras.preprocessing.sequence.pad_sequences(tokenized_test, \n",
        "                                 maxlen=INPUT_SIZE,\n",
        "                                 padding='post')\n",
        "x_test = x_test.astype(np.int64)\n",
        "print(x_test.shape)\n",
        "\n",
        "## create matrix after tokenizing validation data\n",
        "list_data= validate['functionSource'].values\n",
        "tokenized_validate = tokenizer.texts_to_sequences([str(i) for i in list_data])\n",
        "x_validate = tf.keras.preprocessing.sequence.pad_sequences(tokenized_validate, \n",
        "                                 maxlen=INPUT_SIZE,\n",
        "                                 padding='post')\n",
        "x_validate = x_validate.astype(np.int64)\n",
        "print(x_validate.shape)"
      ]
    },
    {
      "cell_type": "code",
      "execution_count": null,
      "metadata": {
        "colab": {
          "base_uri": "https://localhost:8080/"
        },
        "id": "fBZs24RGPobV",
        "outputId": "d7a28d1a-e306-4f32-d714-b69916e099d5"
      },
      "outputs": [
        {
          "name": "stdout",
          "output_type": "stream",
          "text": [
            "Train 0    1000185\n",
            "1      19286\n",
            "Name: CWE-119, dtype: int64\n",
            "\n",
            "Test 0    124967\n",
            "1      2452\n",
            "Name: CWE-119, dtype: int64\n",
            "\n",
            "Validate 0    125057\n",
            "1      2419\n",
            "Name: CWE-119, dtype: int64\n"
          ]
        }
      ],
      "source": [
        "# example of the data\n",
        "print('Train', pd.value_counts(train.iloc[:,1]))\n",
        "print('\\nTest', pd.value_counts(test.iloc[:,1]))\n",
        "print('\\nValidate', pd.value_counts(validate.iloc[:,1]))"
      ]
    },
    {
      "cell_type": "code",
      "execution_count": null,
      "metadata": {
        "colab": {
          "base_uri": "https://localhost:8080/"
        },
        "id": "Nkl2wRulhc6P",
        "outputId": "b8cb0598-24c3-440a-ce37-415fa6d86c46"
      },
      "outputs": [
        {
          "data": {
            "text/html": [
              "\n",
              "  <div id=\"df-bf793ca8-9db9-405b-9b09-c522056e32eb\">\n",
              "    <div class=\"colab-df-container\">\n",
              "      <div>\n",
              "<style scoped>\n",
              "    .dataframe tbody tr th:only-of-type {\n",
              "        vertical-align: middle;\n",
              "    }\n",
              "\n",
              "    .dataframe tbody tr th {\n",
              "        vertical-align: top;\n",
              "    }\n",
              "\n",
              "    .dataframe thead th {\n",
              "        text-align: right;\n",
              "    }\n",
              "</style>\n",
              "<table border=\"1\" class=\"dataframe\">\n",
              "  <thead>\n",
              "    <tr style=\"text-align: right;\">\n",
              "      <th></th>\n",
              "      <th>CWE-119</th>\n",
              "      <th>CWE-120</th>\n",
              "      <th>CWE-469</th>\n",
              "      <th>CWE-476</th>\n",
              "      <th>CWE-other</th>\n",
              "    </tr>\n",
              "  </thead>\n",
              "  <tbody>\n",
              "    <tr>\n",
              "      <th>0</th>\n",
              "      <td>0</td>\n",
              "      <td>0</td>\n",
              "      <td>0</td>\n",
              "      <td>0</td>\n",
              "      <td>0</td>\n",
              "    </tr>\n",
              "    <tr>\n",
              "      <th>1</th>\n",
              "      <td>0</td>\n",
              "      <td>0</td>\n",
              "      <td>0</td>\n",
              "      <td>0</td>\n",
              "      <td>0</td>\n",
              "    </tr>\n",
              "    <tr>\n",
              "      <th>2</th>\n",
              "      <td>0</td>\n",
              "      <td>0</td>\n",
              "      <td>0</td>\n",
              "      <td>0</td>\n",
              "      <td>0</td>\n",
              "    </tr>\n",
              "    <tr>\n",
              "      <th>3</th>\n",
              "      <td>0</td>\n",
              "      <td>0</td>\n",
              "      <td>0</td>\n",
              "      <td>0</td>\n",
              "      <td>0</td>\n",
              "    </tr>\n",
              "    <tr>\n",
              "      <th>4</th>\n",
              "      <td>0</td>\n",
              "      <td>0</td>\n",
              "      <td>0</td>\n",
              "      <td>0</td>\n",
              "      <td>0</td>\n",
              "    </tr>\n",
              "  </tbody>\n",
              "</table>\n",
              "</div>\n",
              "      <button class=\"colab-df-convert\" onclick=\"convertToInteractive('df-bf793ca8-9db9-405b-9b09-c522056e32eb')\"\n",
              "              title=\"Convert this dataframe to an interactive table.\"\n",
              "              style=\"display:none;\">\n",
              "        \n",
              "  <svg xmlns=\"http://www.w3.org/2000/svg\" height=\"24px\"viewBox=\"0 0 24 24\"\n",
              "       width=\"24px\">\n",
              "    <path d=\"M0 0h24v24H0V0z\" fill=\"none\"/>\n",
              "    <path d=\"M18.56 5.44l.94 2.06.94-2.06 2.06-.94-2.06-.94-.94-2.06-.94 2.06-2.06.94zm-11 1L8.5 8.5l.94-2.06 2.06-.94-2.06-.94L8.5 2.5l-.94 2.06-2.06.94zm10 10l.94 2.06.94-2.06 2.06-.94-2.06-.94-.94-2.06-.94 2.06-2.06.94z\"/><path d=\"M17.41 7.96l-1.37-1.37c-.4-.4-.92-.59-1.43-.59-.52 0-1.04.2-1.43.59L10.3 9.45l-7.72 7.72c-.78.78-.78 2.05 0 2.83L4 21.41c.39.39.9.59 1.41.59.51 0 1.02-.2 1.41-.59l7.78-7.78 2.81-2.81c.8-.78.8-2.07 0-2.86zM5.41 20L4 18.59l7.72-7.72 1.47 1.35L5.41 20z\"/>\n",
              "  </svg>\n",
              "      </button>\n",
              "      \n",
              "  <style>\n",
              "    .colab-df-container {\n",
              "      display:flex;\n",
              "      flex-wrap:wrap;\n",
              "      gap: 12px;\n",
              "    }\n",
              "\n",
              "    .colab-df-convert {\n",
              "      background-color: #E8F0FE;\n",
              "      border: none;\n",
              "      border-radius: 50%;\n",
              "      cursor: pointer;\n",
              "      display: none;\n",
              "      fill: #1967D2;\n",
              "      height: 32px;\n",
              "      padding: 0 0 0 0;\n",
              "      width: 32px;\n",
              "    }\n",
              "\n",
              "    .colab-df-convert:hover {\n",
              "      background-color: #E2EBFA;\n",
              "      box-shadow: 0px 1px 2px rgba(60, 64, 67, 0.3), 0px 1px 3px 1px rgba(60, 64, 67, 0.15);\n",
              "      fill: #174EA6;\n",
              "    }\n",
              "\n",
              "    [theme=dark] .colab-df-convert {\n",
              "      background-color: #3B4455;\n",
              "      fill: #D2E3FC;\n",
              "    }\n",
              "\n",
              "    [theme=dark] .colab-df-convert:hover {\n",
              "      background-color: #434B5C;\n",
              "      box-shadow: 0px 1px 3px 1px rgba(0, 0, 0, 0.15);\n",
              "      filter: drop-shadow(0px 1px 2px rgba(0, 0, 0, 0.3));\n",
              "      fill: #FFFFFF;\n",
              "    }\n",
              "  </style>\n",
              "\n",
              "      <script>\n",
              "        const buttonEl =\n",
              "          document.querySelector('#df-bf793ca8-9db9-405b-9b09-c522056e32eb button.colab-df-convert');\n",
              "        buttonEl.style.display =\n",
              "          google.colab.kernel.accessAllowed ? 'block' : 'none';\n",
              "\n",
              "        async function convertToInteractive(key) {\n",
              "          const element = document.querySelector('#df-bf793ca8-9db9-405b-9b09-c522056e32eb');\n",
              "          const dataTable =\n",
              "            await google.colab.kernel.invokeFunction('convertToInteractive',\n",
              "                                                     [key], {});\n",
              "          if (!dataTable) return;\n",
              "\n",
              "          const docLinkHtml = 'Like what you see? Visit the ' +\n",
              "            '<a target=\"_blank\" href=https://colab.research.google.com/notebooks/data_table.ipynb>data table notebook</a>'\n",
              "            + ' to learn more about interactive tables.';\n",
              "          element.innerHTML = '';\n",
              "          dataTable['output_type'] = 'display_data';\n",
              "          await google.colab.output.renderOutput(dataTable, element);\n",
              "          const docLink = document.createElement('div');\n",
              "          docLink.innerHTML = docLinkHtml;\n",
              "          element.appendChild(docLink);\n",
              "        }\n",
              "      </script>\n",
              "    </div>\n",
              "  </div>\n",
              "  "
            ],
            "text/plain": [
              "   CWE-119  CWE-120  CWE-469  CWE-476  CWE-other\n",
              "0        0        0        0        0          0\n",
              "1        0        0        0        0          0\n",
              "2        0        0        0        0          0\n",
              "3        0        0        0        0          0\n",
              "4        0        0        0        0          0"
            ]
          },
          "execution_count": 17,
          "metadata": {},
          "output_type": "execute_result"
        }
      ],
      "source": [
        "# Example data\n",
        "test.iloc[0:5,1:6]"
      ]
    },
    {
      "cell_type": "code",
      "execution_count": null,
      "metadata": {
        "id": "LGdE5Zrghk1h"
      },
      "outputs": [],
      "source": [
        "y_train=[]\n",
        "y_test=[]\n",
        "y_validate=[]\n",
        "\n",
        "for col in range(1,6):\n",
        "    y_train.append(tf.keras.utils.to_categorical(train.iloc[:,col], num_classes=NUM_CLASSES).astype(np.int64))\n",
        "    y_test.append(tf.keras.utils.to_categorical(test.iloc[:,col], num_classes=NUM_CLASSES).astype(np.int64))\n",
        "    y_validate.append(tf.keras.utils.to_categorical(validate.iloc[:,col], num_classes=NUM_CLASSES).astype(np.int64))\n",
        "\n"
      ]
    },
    {
      "cell_type": "code",
      "execution_count": null,
      "metadata": {
        "colab": {
          "base_uri": "https://localhost:8080/"
        },
        "id": "Eo9UsaYEhlm0",
        "outputId": "c9448192-9029-40d5-fdea-e16ff2ffdd00"
      },
      "outputs": [
        {
          "data": {
            "text/plain": [
              "0    124967\n",
              "1      2452\n",
              "dtype: int64"
            ]
          },
          "execution_count": 19,
          "metadata": {},
          "output_type": "execute_result"
        }
      ],
      "source": [
        "# Example data\n",
        "pd.value_counts(y_test[0][:,1])"
      ]
    },
    {
      "cell_type": "code",
      "execution_count": null,
      "metadata": {
        "id": "2FDQo5aQmzS3"
      },
      "outputs": [],
      "source": [
        "from keras.models import Sequential\n",
        "from keras.layers import Dense, Flatten, Convolution1D, Dropout, GlobalAveragePooling1D\n",
        "#from keras.optimizers import SGD\n",
        "from keras.initializers import random_uniform\n",
        "\n",
        "import pandas as pd"
      ]
    },
    {
      "cell_type": "code",
      "execution_count": null,
      "metadata": {
        "id": "UqRQ8f9boWd-"
      },
      "outputs": [],
      "source": [
        "#hyperparameters\n",
        "#input_dimension = 226\n",
        "learning_rate = 0.005\n",
        "beta1 = 0.9\n",
        "beta2=0.999\n",
        "epsilon=1\n",
        "decay = 0.0\n",
        "amsgrad = False\n",
        "\n",
        "dropout_rate = 0.5\n"
      ]
    },
    {
      "cell_type": "code",
      "execution_count": null,
      "metadata": {
        "colab": {
          "base_uri": "https://localhost:8080/"
        },
        "id": "QDLV3_OsodFt",
        "outputId": "d746d2a4-125f-401e-8c5b-8e5f7b7b1c39"
      },
      "outputs": [
        {
          "name": "stdout",
          "output_type": "stream",
          "text": [
            "CNN model built: \n",
            "Model: \"CNN\"\n",
            "_________________________________________________________________\n",
            " Layer (type)                Output Shape              Param #   \n",
            "=================================================================\n",
            " embedding (Embedding)       (None, 500, 13)           130000    \n",
            "                                                                 \n",
            " conv1d (Conv1D)             (None, 500, 512)          60416     \n",
            "                                                                 \n",
            " max_pooling1d (MaxPooling1D  (None, 125, 512)         0         \n",
            " )                                                               \n",
            "                                                                 \n",
            " dropout (Dropout)           (None, 125, 512)          0         \n",
            "                                                                 \n",
            " flatten (Flatten)           (None, 64000)             0         \n",
            "                                                                 \n",
            " dense (Dense)               (None, 64)                4096064   \n",
            "                                                                 \n",
            " dense_1 (Dense)             (None, 32)                2080      \n",
            "                                                                 \n",
            " dense_2 (Dense)             (None, 1)                 33        \n",
            "                                                                 \n",
            "=================================================================\n",
            "Total params: 4,288,593\n",
            "Trainable params: 4,288,593\n",
            "Non-trainable params: 0\n",
            "_________________________________________________________________\n"
          ]
        }
      ],
      "source": [
        "#initialize random weights\n",
        "model_weights = np.random.normal(size=(WORDS_SIZE, 13),scale=0.01)\n",
        "\n",
        "# implement sequential CNN model\n",
        "model = tf.keras.Sequential(name=\"CNN\")\n",
        "model.add(tf.keras.layers.Embedding(input_dim = WORDS_SIZE,\n",
        "                                    output_dim = 13,\n",
        "                                    weights=[model_weights],\n",
        "                                    input_length = INPUT_SIZE))\n",
        "\n",
        "model.add(tf.keras.layers.Convolution1D(filters=512, kernel_size=(9), padding='same', activation='relu'))\n",
        "#model.add(tf.keras.layers.Convolution1D(filters=256, kernel_size=(9), padding='same', activation='relu'))\n",
        "model.add(tf.keras.layers.MaxPool1D(pool_size=4))\n",
        "model.add(tf.keras.layers.Dropout(dropout_rate))\n",
        "model.add(tf.keras.layers.Flatten())\n",
        "model.add(tf.keras.layers.Dense(64, activation='relu'))\n",
        "model.add(tf.keras.layers.Dense(32, activation='relu'))\n",
        "model.add(tf.keras.layers.Dense(1, activation='sigmoid'))\n",
        "#model.add(tf.keras.layers.Dense(1, activation='sigmoid'))\n",
        "\n",
        "#implement adam optimizer\n",
        "adam_optimizer = tf.keras.optimizers.Adam(learning_rate, beta1, beta2, epsilon, decay, amsgrad)\n",
        "\n",
        "#compile model with optimizer and metrics\n",
        "model.compile(optimizer=adam_optimizer, loss='binary_crossentropy', metrics=['accuracy'])\n",
        "print(\"CNN model built: \")\n",
        "model.summary()"
      ]
    },
    {
      "cell_type": "code",
      "execution_count": null,
      "metadata": {
        "id": "XzfeP9kpfSYE"
      },
      "outputs": [],
      "source": [
        "mld = 'model/model-ALL-{epoch:02d}.hdf5'\n",
        "\n",
        "## Create best model callback\n",
        "model_callback = tf.keras.callbacks.ModelCheckpoint(filepath=mld, \n",
        "                                         monitor=\"val_loss\",\n",
        "                                         save_best_only=True, \n",
        "                                         mode='auto', \n",
        "                                         save_freq='epoch', \n",
        "                                         verbose=1)"
      ]
    },
    {
      "cell_type": "code",
      "execution_count": null,
      "metadata": {
        "colab": {
          "background_save": true,
          "base_uri": "https://localhost:8080/"
        },
        "id": "BxHRefqKwPrz",
        "outputId": "1be32ed2-d39c-4623-e588-31a9136a2600"
      },
      "outputs": [
        {
          "name": "stdout",
          "output_type": "stream",
          "text": [
            "Train on 57858 samples, validate on 127476 samples\n",
            "Epoch 1/30\n"
          ]
        },
        {
          "name": "stderr",
          "output_type": "stream",
          "text": [
            "/usr/local/lib/python3.7/dist-packages/keras/engine/training_v1.py:2057: UserWarning: `Model.state_updates` will be removed in a future version. This property should not be used in TensorFlow 2.0, as `updates` are applied automatically.\n",
            "  updates = self.state_updates\n"
          ]
        },
        {
          "name": "stdout",
          "output_type": "stream",
          "text": [
            "\n",
            "Epoch 1: val_loss improved from inf to 1.01734, saving model to model/model-ALL-01.hdf5\n",
            "57858/57858 - 292s - loss: 1.3118 - accuracy: 0.4091 - val_loss: 1.0173 - val_accuracy: 0.2991 - 292s/epoch - 5ms/sample\n",
            "Epoch 2/30\n",
            "\n",
            "Epoch 2: val_loss improved from 1.01734 to 0.92068, saving model to model/model-ALL-02.hdf5\n",
            "57858/57858 - 324s - loss: 1.0299 - accuracy: 0.6435 - val_loss: 0.9207 - val_accuracy: 0.6008 - 324s/epoch - 6ms/sample\n",
            "Epoch 3/30\n",
            "\n",
            "Epoch 3: val_loss improved from 0.92068 to 0.68593, saving model to model/model-ALL-03.hdf5\n",
            "57858/57858 - 317s - loss: 0.7875 - accuracy: 0.8059 - val_loss: 0.6859 - val_accuracy: 0.7387 - 317s/epoch - 5ms/sample\n",
            "Epoch 4/30\n",
            "\n",
            "Epoch 4: val_loss improved from 0.68593 to 0.54616, saving model to model/model-ALL-04.hdf5\n",
            "57858/57858 - 294s - loss: 0.7386 - accuracy: 0.8236 - val_loss: 0.5462 - val_accuracy: 0.8118 - 294s/epoch - 5ms/sample\n",
            "Epoch 5/30\n",
            "\n",
            "Epoch 5: val_loss improved from 0.54616 to 0.45587, saving model to model/model-ALL-05.hdf5\n",
            "57858/57858 - 289s - loss: 0.7107 - accuracy: 0.8312 - val_loss: 0.4559 - val_accuracy: 0.8387 - 289s/epoch - 5ms/sample\n",
            "Epoch 6/30\n",
            "\n",
            "Epoch 6: val_loss did not improve from 0.45587\n",
            "57858/57858 - 296s - loss: 0.6884 - accuracy: 0.8355 - val_loss: 0.6245 - val_accuracy: 0.7612 - 296s/epoch - 5ms/sample\n",
            "Epoch 7/30\n",
            "\n",
            "Epoch 7: val_loss did not improve from 0.45587\n",
            "57858/57858 - 298s - loss: 0.6712 - accuracy: 0.8370 - val_loss: 0.5045 - val_accuracy: 0.8177 - 298s/epoch - 5ms/sample\n",
            "Epoch 8/30\n",
            "\n",
            "Epoch 8: val_loss did not improve from 0.45587\n",
            "57858/57858 - 459s - loss: 0.6518 - accuracy: 0.8417 - val_loss: 0.5988 - val_accuracy: 0.7632 - 459s/epoch - 8ms/sample\n",
            "Epoch 9/30\n",
            "\n",
            "Epoch 9: val_loss did not improve from 0.45587\n",
            "57858/57858 - 352s - loss: 0.6333 - accuracy: 0.8449 - val_loss: 0.5365 - val_accuracy: 0.7994 - 352s/epoch - 6ms/sample\n",
            "Epoch 10/30\n",
            "\n",
            "Epoch 10: val_loss did not improve from 0.45587\n",
            "57858/57858 - 326s - loss: 0.6130 - accuracy: 0.8474 - val_loss: 0.4641 - val_accuracy: 0.8193 - 326s/epoch - 6ms/sample\n",
            "Epoch 11/30\n",
            "\n",
            "Epoch 11: val_loss did not improve from 0.45587\n",
            "57858/57858 - 283s - loss: 0.5960 - accuracy: 0.8513 - val_loss: 0.5844 - val_accuracy: 0.7829 - 283s/epoch - 5ms/sample\n",
            "Epoch 12/30\n",
            "\n",
            "Epoch 12: val_loss did not improve from 0.45587\n",
            "57858/57858 - 286s - loss: 0.5756 - accuracy: 0.8559 - val_loss: 0.5094 - val_accuracy: 0.8044 - 286s/epoch - 5ms/sample\n",
            "Epoch 13/30\n",
            "\n",
            "Epoch 13: val_loss improved from 0.45587 to 0.43429, saving model to model/model-ALL-13.hdf5\n",
            "57858/57858 - 284s - loss: 0.5566 - accuracy: 0.8587 - val_loss: 0.4343 - val_accuracy: 0.8364 - 284s/epoch - 5ms/sample\n",
            "Epoch 14/30\n",
            "\n",
            "Epoch 14: val_loss did not improve from 0.43429\n",
            "57858/57858 - 284s - loss: 0.5404 - accuracy: 0.8632 - val_loss: 0.4830 - val_accuracy: 0.8130 - 284s/epoch - 5ms/sample\n",
            "Epoch 15/30\n",
            "\n",
            "Epoch 15: val_loss improved from 0.43429 to 0.35071, saving model to model/model-ALL-15.hdf5\n",
            "57858/57858 - 284s - loss: 0.5185 - accuracy: 0.8665 - val_loss: 0.3507 - val_accuracy: 0.8635 - 284s/epoch - 5ms/sample\n",
            "Epoch 16/30\n",
            "\n",
            "Epoch 16: val_loss did not improve from 0.35071\n",
            "57858/57858 - 288s - loss: 0.5022 - accuracy: 0.8690 - val_loss: 0.4835 - val_accuracy: 0.8211 - 288s/epoch - 5ms/sample\n",
            "Epoch 17/30\n",
            "\n",
            "Epoch 17: val_loss did not improve from 0.35071\n",
            "57858/57858 - 293s - loss: 0.4843 - accuracy: 0.8741 - val_loss: 0.5336 - val_accuracy: 0.7948 - 293s/epoch - 5ms/sample\n",
            "Epoch 18/30\n",
            "\n",
            "Epoch 18: val_loss did not improve from 0.35071\n",
            "57858/57858 - 292s - loss: 0.4694 - accuracy: 0.8764 - val_loss: 0.5785 - val_accuracy: 0.7802 - 292s/epoch - 5ms/sample\n",
            "Epoch 19/30\n",
            "\n",
            "Epoch 19: val_loss did not improve from 0.35071\n",
            "57858/57858 - 296s - loss: 0.4515 - accuracy: 0.8796 - val_loss: 0.3635 - val_accuracy: 0.8530 - 296s/epoch - 5ms/sample\n",
            "Epoch 20/30\n",
            "\n",
            "Epoch 20: val_loss did not improve from 0.35071\n",
            "57858/57858 - 295s - loss: 0.4324 - accuracy: 0.8855 - val_loss: 0.3801 - val_accuracy: 0.8448 - 295s/epoch - 5ms/sample\n",
            "Epoch 21/30\n",
            "\n",
            "Epoch 21: val_loss did not improve from 0.35071\n",
            "57858/57858 - 296s - loss: 0.4178 - accuracy: 0.8889 - val_loss: 0.6152 - val_accuracy: 0.7504 - 296s/epoch - 5ms/sample\n",
            "Epoch 22/30\n",
            "\n",
            "Epoch 22: val_loss did not improve from 0.35071\n",
            "57858/57858 - 284s - loss: 0.4046 - accuracy: 0.8919 - val_loss: 0.3728 - val_accuracy: 0.8506 - 284s/epoch - 5ms/sample\n",
            "Epoch 23/30\n",
            "\n",
            "Epoch 23: val_loss did not improve from 0.35071\n",
            "57858/57858 - 283s - loss: 0.3858 - accuracy: 0.8955 - val_loss: 0.3802 - val_accuracy: 0.8568 - 283s/epoch - 5ms/sample\n",
            "Epoch 24/30\n",
            "\n",
            "Epoch 24: val_loss did not improve from 0.35071\n",
            "57858/57858 - 281s - loss: 0.3683 - accuracy: 0.9003 - val_loss: 0.5197 - val_accuracy: 0.7998 - 281s/epoch - 5ms/sample\n",
            "Epoch 25/30\n",
            "\n",
            "Epoch 25: val_loss did not improve from 0.35071\n",
            "57858/57858 - 278s - loss: 0.3565 - accuracy: 0.9037 - val_loss: 0.4428 - val_accuracy: 0.8291 - 278s/epoch - 5ms/sample\n",
            "Epoch 26/30\n",
            "\n",
            "Epoch 26: val_loss did not improve from 0.35071\n",
            "57858/57858 - 280s - loss: 0.3409 - accuracy: 0.9077 - val_loss: 0.3680 - val_accuracy: 0.8688 - 280s/epoch - 5ms/sample\n",
            "Epoch 27/30\n",
            "\n",
            "Epoch 27: val_loss did not improve from 0.35071\n",
            "57858/57858 - 288s - loss: 0.3372 - accuracy: 0.9091 - val_loss: 0.5298 - val_accuracy: 0.8114 - 288s/epoch - 5ms/sample\n",
            "Epoch 28/30\n",
            "\n",
            "Epoch 28: val_loss improved from 0.35071 to 0.32354, saving model to model/model-ALL-28.hdf5\n",
            "57858/57858 - 297s - loss: 0.3169 - accuracy: 0.9140 - val_loss: 0.3235 - val_accuracy: 0.8782 - 297s/epoch - 5ms/sample\n",
            "Epoch 29/30\n",
            "\n",
            "Epoch 29: val_loss did not improve from 0.32354\n",
            "57858/57858 - 290s - loss: 0.3089 - accuracy: 0.9163 - val_loss: 0.4833 - val_accuracy: 0.8207 - 290s/epoch - 5ms/sample\n",
            "Epoch 30/30\n",
            "\n",
            "Epoch 30: val_loss did not improve from 0.32354\n",
            "57858/57858 - 290s - loss: 0.2913 - accuracy: 0.9219 - val_loss: 0.4104 - val_accuracy: 0.8565 - 290s/epoch - 5ms/sample\n"
          ]
        },
        {
          "data": {
            "text/plain": [
              "<keras.callbacks.History at 0x7f75cf0be8d0>"
            ]
          },
          "execution_count": 24,
          "metadata": {},
          "output_type": "execute_result"
        }
      ],
      "source": [
        "\n",
        "ceiling = 38572\n",
        "\n",
        "\n",
        "class_weights = {0: 1., 1: 5.}\n",
        "\n",
        "model.fit(x = x_train[[*one,*zero[0:ceiling]],:],\n",
        "          y = train.iloc[[*one,*zero[0:ceiling]],1].to_numpy(),\n",
        "          validation_data = (x_validate, validate.iloc[:,1].to_numpy()),\n",
        "          epochs = 30,\n",
        "          batch_size = 16,\n",
        "          verbose =2,\n",
        "          class_weight= class_weights,\n",
        "          callbacks = [model_callback])\n"
      ]
    }
  ],
  "metadata": {
    "colab": {
      "collapsed_sections": [],
      "machine_shape": "hm",
      "provenance": []
    },
    "kernelspec": {
      "display_name": "Python 3",
      "name": "python3"
    },
    "language_info": {
      "name": "python"
    }
  },
  "nbformat": 4,
  "nbformat_minor": 0
}